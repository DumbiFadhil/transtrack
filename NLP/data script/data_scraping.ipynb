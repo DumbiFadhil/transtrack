{
 "cells": [
  {
   "cell_type": "code",
   "execution_count": 29,
   "id": "21e1e139",
   "metadata": {},
   "outputs": [],
   "source": [
    "import requests\n",
    "from bs4 import BeautifulSoup\n",
    "import csv\n",
    "import nltk\n",
    "import pandas as pd\n",
    "# nltk.download('punkt') \n",
    "from nltk.tokenize import sent_tokenize"
   ]
  },
  {
   "cell_type": "code",
   "execution_count": null,
   "id": "1dd3c100",
   "metadata": {},
   "outputs": [
    {
     "ename": "IndexError",
     "evalue": "list index out of range",
     "output_type": "error",
     "traceback": [
      "\u001b[31m---------------------------------------------------------------------------\u001b[39m",
      "\u001b[31mIndexError\u001b[39m                                Traceback (most recent call last)",
      "\u001b[36mCell\u001b[39m\u001b[36m \u001b[39m\u001b[32mIn[30]\u001b[39m\u001b[32m, line 7\u001b[39m\n\u001b[32m      5\u001b[39m \u001b[38;5;28;01mtry\u001b[39;00m:\n\u001b[32m      6\u001b[39m     df = pd.read_csv(\u001b[33mf\u001b[39m\u001b[33m'\u001b[39m\u001b[33mberita_\u001b[39m\u001b[38;5;132;01m{\u001b[39;00mi\u001b[38;5;132;01m}\u001b[39;00m\u001b[33m.csv\u001b[39m\u001b[33m'\u001b[39m)\n\u001b[32m----> \u001b[39m\u001b[32m7\u001b[39m     \u001b[43mall_data\u001b[49m\u001b[43m[\u001b[49m\u001b[32;43m1\u001b[39;49m\u001b[43m]\u001b[49m.append(df)\n\u001b[32m      8\u001b[39m     \u001b[38;5;28mprint\u001b[39m(\u001b[33mf\u001b[39m\u001b[33m'\u001b[39m\u001b[33mberhasil membaca berita_\u001b[39m\u001b[38;5;132;01m{\u001b[39;00mi\u001b[38;5;132;01m}\u001b[39;00m\u001b[33m.csv\u001b[39m\u001b[33m'\u001b[39m)\n\u001b[32m      9\u001b[39m     i += \u001b[32m1\u001b[39m\n",
      "\u001b[31mIndexError\u001b[39m: list index out of range"
     ]
    }
   ],
   "source": [
    "i = 1\n",
    "all_data = []\n",
    "\n",
    "while True:\n",
    "    try:\n",
    "        df = pd.read_csv(f'berita_{i}.csv')\n",
    "        kolom_pertama = df.iloc[:, 0]  # Ambil hanya kolom pertama\n",
    "        all_data.append(kolom_pertama)\n",
    "        print(f'berhasil membaca berita_{i}.csv')\n",
    "        i += 1\n",
    "    except FileNotFoundError:\n",
    "        print('File tidak ditemukan, proses selesai.')\n",
    "        break\n",
    "\n",
    "# Gabungkan semua kolom pertama ke satu kolom\n",
    "if all_data:\n",
    "    combined_series = pd.concat(all_data, ignore_index=True)\n",
    "    combined_series.to_csv('berita.csv', index=False, header=False, encoding='utf-8')\n",
    "    print('File berita.csv berhasil disimpan.')\n",
    "else:\n",
    "    print('Tidak ada file yang digabungkan.')"
   ]
  },
  {
   "cell_type": "code",
   "execution_count": null,
   "id": "9267e474",
   "metadata": {},
   "outputs": [],
   "source": []
  }
 ],
 "metadata": {
  "kernelspec": {
   "display_name": ".venv",
   "language": "python",
   "name": "python3"
  },
  "language_info": {
   "codemirror_mode": {
    "name": "ipython",
    "version": 3
   },
   "file_extension": ".py",
   "mimetype": "text/x-python",
   "name": "python",
   "nbconvert_exporter": "python",
   "pygments_lexer": "ipython3",
   "version": "3.11.5"
  }
 },
 "nbformat": 4,
 "nbformat_minor": 5
}
